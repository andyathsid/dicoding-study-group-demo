{
 "cells": [
  {
   "cell_type": "code",
   "execution_count": 1,
   "id": "0ce6bf20",
   "metadata": {
    "execution": {
     "iopub.execute_input": "2025-05-03T11:41:22.521299Z",
     "iopub.status.busy": "2025-05-03T11:41:22.520986Z",
     "iopub.status.idle": "2025-05-03T11:41:22.529428Z",
     "shell.execute_reply": "2025-05-03T11:41:22.528404Z"
    },
    "papermill": {
     "duration": 0.013607,
     "end_time": "2025-05-03T11:41:22.531671",
     "exception": false,
     "start_time": "2025-05-03T11:41:22.518064",
     "status": "completed"
    },
    "tags": []
   },
   "outputs": [
    {
     "name": "stdout",
     "output_type": "stream",
     "text": [
      "Test dari kaggle\n"
     ]
    }
   ],
   "source": [
    "print(\"Test dari kaggle\")"
   ]
  },
  {
   "cell_type": "code",
   "execution_count": 2,
   "id": "62e84396",
   "metadata": {
    "execution": {
     "iopub.execute_input": "2025-05-03T11:41:22.536194Z",
     "iopub.status.busy": "2025-05-03T11:41:22.535882Z",
     "iopub.status.idle": "2025-05-03T11:41:22.540700Z",
     "shell.execute_reply": "2025-05-03T11:41:22.539603Z"
    },
    "papermill": {
     "duration": 0.008388,
     "end_time": "2025-05-03T11:41:22.541975",
     "exception": false,
     "start_time": "2025-05-03T11:41:22.533587",
     "status": "completed"
    },
    "tags": []
   },
   "outputs": [
    {
     "name": "stdout",
     "output_type": "stream",
     "text": [
      "Test dari local\n"
     ]
    }
   ],
   "source": [
    "print(\"Test dari local\")"
   ]
  }
 ],
 "metadata": {
  "kaggle": {
   "accelerator": "none",
   "dataSources": [],
   "dockerImageVersionId": 31011,
   "isGpuEnabled": false,
   "isInternetEnabled": true,
   "language": "python",
   "sourceType": "notebook"
  },
  "kernelspec": {
   "display_name": "Python 3",
   "language": "python",
   "name": "python3"
  },
  "language_info": {
   "codemirror_mode": {
    "name": "ipython",
    "version": 3
   },
   "file_extension": ".py",
   "mimetype": "text/x-python",
   "name": "python",
   "nbconvert_exporter": "python",
   "pygments_lexer": "ipython3",
   "version": "3.11.11"
  },
  "papermill": {
   "default_parameters": {},
   "duration": 5.168527,
   "end_time": "2025-05-03T11:41:22.961711",
   "environment_variables": {},
   "exception": null,
   "input_path": "__notebook__.ipynb",
   "output_path": "__notebook__.ipynb",
   "parameters": {},
   "start_time": "2025-05-03T11:41:17.793184",
   "version": "2.6.0"
  }
 },
 "nbformat": 4,
 "nbformat_minor": 5
}
