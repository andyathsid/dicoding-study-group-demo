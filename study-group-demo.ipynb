{
 "cells": [
  {
   "cell_type": "code",
   "execution_count": 1,
   "metadata": {
    "execution": {
     "iopub.execute_input": "2025-05-03T11:42:18.545633Z",
     "iopub.status.busy": "2025-05-03T11:42:18.545337Z",
     "iopub.status.idle": "2025-05-03T11:42:18.556845Z",
     "shell.execute_reply": "2025-05-03T11:42:18.555389Z",
     "shell.execute_reply.started": "2025-05-03T11:42:18.545603Z"
    },
    "trusted": true
   },
   "outputs": [
    {
     "name": "stdout",
     "output_type": "stream",
     "text": [
      "Test dari kaggle ke github\n"
     ]
    }
   ],
   "source": [
    "print(\"Test dari kaggle ke github\")"
   ]
  },
  {
   "cell_type": "code",
   "execution_count": 3,
   "metadata": {},
   "outputs": [
    {
     "name": "stdout",
     "output_type": "stream",
     "text": [
      "Test dari local ke github\n"
     ]
    }
   ],
   "source": [
    "print(\"Test dari local ke github\")"
   ]
  }
 ],
 "metadata": {
  "kaggle": {
   "accelerator": "none",
   "dataSources": [],
   "dockerImageVersionId": 31011,
   "isGpuEnabled": false,
   "isInternetEnabled": true,
   "language": "python",
   "sourceType": "notebook"
  },
  "kernelspec": {
   "display_name": "Python 3",
   "language": "python",
   "name": "python3"
  },
  "language_info": {
   "codemirror_mode": {
    "name": "ipython",
    "version": 3
   },
   "file_extension": ".py",
   "mimetype": "text/x-python",
   "name": "python",
   "nbconvert_exporter": "python",
   "pygments_lexer": "ipython3",
   "version": "3.11.11"
  }
 },
 "nbformat": 4,
 "nbformat_minor": 4
}
