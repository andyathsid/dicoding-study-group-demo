{
 "cells": [
  {
   "cell_type": "code",
   "execution_count": 1,
   "id": "50a0e906-b657-4ce7-a8ff-9305d9399e8e",
   "metadata": {
    "execution": {
     "iopub.execute_input": "2025-05-03T08:24:34.864476Z",
     "iopub.status.busy": "2025-05-03T08:24:34.864231Z",
     "iopub.status.idle": "2025-05-03T08:24:34.872109Z",
     "shell.execute_reply": "2025-05-03T08:24:34.87121Z",
     "shell.execute_reply.started": "2025-05-03T08:24:34.864458Z"
    },
    "trusted": true
   },
   "outputs": [
    {
     "name": "stdout",
     "output_type": "stream",
     "text": [
      "Test dari kaggle\n"
     ]
    }
   ],
   "source": [
    "print(\"Test dari kaggle\")"
   ]
  },
  {
   "cell_type": "code",
   "execution_count": 2,
   "metadata": {},
   "outputs": [
    {
     "name": "stdout",
     "output_type": "stream",
     "text": [
      "Test dari local\n"
     ]
    }
   ],
   "source": [
    "print(\"Test dari local\")"
   ]
  }
 ],
 "metadata": {
  "kaggle": {
   "accelerator": "gpu",
   "dataSources": [],
   "dockerImageVersionId": 31011,
   "isGpuEnabled": true,
   "isInternetEnabled": true,
   "language": "python",
   "sourceType": "notebook"
  },
  "kernelspec": {
   "display_name": ".dsgd-venv",
   "language": "python",
   "name": "python3"
  },
  "language_info": {
   "codemirror_mode": {
    "name": "ipython",
    "version": 3
   },
   "file_extension": ".py",
   "mimetype": "text/x-python",
   "name": "python",
   "nbconvert_exporter": "python",
   "pygments_lexer": "ipython3",
   "version": "3.11.11"
  }
 },
 "nbformat": 4,
 "nbformat_minor": 4
}
